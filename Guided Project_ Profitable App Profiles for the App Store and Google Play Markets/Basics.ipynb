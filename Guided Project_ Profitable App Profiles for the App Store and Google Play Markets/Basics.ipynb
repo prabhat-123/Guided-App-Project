{
 "cells": [
  {
   "cell_type": "markdown",
   "metadata": {
    "collapsed": true
   },
   "source": [
    "## PROFITABLE APP PROFILES FOR THE APP STORE AND GOOGLE PLAY MARKETS\n",
    "\n",
    "\n",
    "In this projext we are going to look at the profiles of the apps that are available in apple store and google play store.For this purpose we are going to access applestore.csv file and googleplaystore.csv file provided by dataquest team. Then we are going to find out what kinds of apps are more getting popular and trace those kinds of apps which have high download ratio.\n",
    "\n",
    "\n",
    "\n",
    "### Objective/Main Goal\n",
    "\n",
    "Our goal is to help our developers understand what kinds of apps are likely to attract more users on Google Play and the App Store. To do this, we'll need to collect and analyze data about mobile apps available on Google Play and the App Store.The data is available on googleplaystore.csv and applestore.csv.\n",
    "\n",
    "\n",
    "#### Opening And Exploring The Data\n",
    "We are going to open the two data sets we mentioned above, and save both as lists of lists.\n",
    "\n",
    "The App Store data set is stored in a CSV file named AppleStore.csv, and the Google Play data set is stored in a CSV file named googleplaystore.csv.\n",
    "\n",
    "\n"
   ]
  },
  {
   "cell_type": "code",
   "execution_count": 170,
   "metadata": {
    "collapsed": false
   },
   "outputs": [
    {
     "name": "stdout",
     "output_type": "stream",
     "text": [
      "7197\n",
      "10841\n",
      "['App', 'Category', 'Rating', 'Reviews', 'Size', 'Installs', 'Type', 'Price', 'Content Rating', 'Genres', 'Last Updated', 'Current Ver', 'Android Ver']\n",
      "['id', 'track_name', 'size_bytes', 'currency', 'price', 'rating_count_tot', 'rating_count_ver', 'user_rating', 'user_rating_ver', 'ver', 'cont_rating', 'prime_genre', 'sup_devices.num', 'ipadSc_urls.num', 'lang.num', 'vpp_lic']\n",
      "[['Photo Editor & Candy Camera & Grid & ScrapBook', 'ART_AND_DESIGN', '4.1', '159', '19M', '10,000+', 'Free', '0', 'Everyone', 'Art & Design', 'January 7, 2018', '1.0.0', '4.0.3 and up'], ['Coloring book moana', 'ART_AND_DESIGN', '3.9', '967', '14M', '500,000+', 'Free', '0', 'Everyone', 'Art & Design;Pretend Play', 'January 15, 2018', '2.0.0', '4.0.3 and up']]\n",
      "[['284882215', 'Facebook', '389879808', 'USD', '0.0', '2974676', '212', '3.5', '3.5', '95.0', '4+', 'Social Networking', '37', '1', '29', '1'], ['389801252', 'Instagram', '113954816', 'USD', '0.0', '2161558', '1289', '4.5', '4.0', '10.23', '12+', 'Photo & Video', '37', '0', '29', '1'], ['529479190', 'Clash of Clans', '116476928', 'USD', '0.0', '2130805', '579', '4.5', '4.5', '9.24.12', '9+', 'Games', '38', '5', '18', '1'], ['420009108', 'Temple Run', '65921024', 'USD', '0.0', '1724546', '3842', '4.5', '4.0', '1.6.2', '9+', 'Games', '40', '5', '1', '1']]\n",
      "['Free', 'Free']\n",
      "['Art & Design', 'Art & Design;Pretend Play']\n"
     ]
    }
   ],
   "source": [
    "from csv import reader\n",
    "#Apple Store Data\n",
    "opened_file1=open('AppleStore.csv',encoding='utf8')\n",
    "read_file1=reader(opened_file1)\n",
    "ios_data=list(read_file1)\n",
    "ios_heading=ios_data[0]\n",
    "ios_apps=ios_data[1:]\n",
    "#Android Data\n",
    "opened_file2=open('googleplaystore.csv',encoding='utf8')\n",
    "read_file2=reader(opened_file2)\n",
    "playstore_data=list(read_file2)\n",
    "android_heading=playstore_data[0]\n",
    "android_apps=playstore_data[1:]\n",
    "print(len(ios_apps))\n",
    "print(len(android_apps))\n",
    "print(android_heading)\n",
    "print(ios_heading)\n",
    "print(android_apps[0:2])\n",
    "print(ios_apps[0:4])\n",
    "priceofandroid_apps=[]\n",
    "genres=[]\n",
    "for items in android_apps:\n",
    "    price=items[6]\n",
    "    genre=items[9]\n",
    "    priceofandroid_apps.append(price)\n",
    "    genres.append(genre)\n",
    "print(priceofandroid_apps[0:2])\n",
    "print(genres[0:2])"
   ]
  },
  {
   "cell_type": "markdown",
   "metadata": {
    "collapsed": false
   },
   "source": [
    "To make it easier to explore the two data sets, we will first\n",
    "write a function named explore_data() so that we can use it\n",
    "repeatedly to explore rows in a more readable way. We will also\n",
    "add an option for our function to show the number of rows and\n",
    "columns for any data set.\n"
   ]
  },
  {
   "cell_type": "code",
   "execution_count": 171,
   "metadata": {
    "collapsed": false
   },
   "outputs": [
    {
     "name": "stdout",
     "output_type": "stream",
     "text": [
      "['id', 'track_name', 'size_bytes', 'currency', 'price', 'rating_count_tot', 'rating_count_ver', 'user_rating', 'user_rating_ver', 'ver', 'cont_rating', 'prime_genre', 'sup_devices.num', 'ipadSc_urls.num', 'lang.num', 'vpp_lic']\n",
      "\n",
      "\n",
      "['284882215', 'Facebook', '389879808', 'USD', '0.0', '2974676', '212', '3.5', '3.5', '95.0', '4+', 'Social Networking', '37', '1', '29', '1']\n",
      "\n",
      "\n",
      "['389801252', 'Instagram', '113954816', 'USD', '0.0', '2161558', '1289', '4.5', '4.0', '10.23', '12+', 'Photo & Video', '37', '0', '29', '1']\n",
      "\n",
      "\n",
      "['529479190', 'Clash of Clans', '116476928', 'USD', '0.0', '2130805', '579', '4.5', '4.5', '9.24.12', '9+', 'Games', '38', '5', '18', '1']\n",
      "\n",
      "\n",
      "['420009108', 'Temple Run', '65921024', 'USD', '0.0', '1724546', '3842', '4.5', '4.0', '1.6.2', '9+', 'Games', '40', '5', '1', '1']\n",
      "\n",
      "\n",
      "['284035177', 'Pandora - Music & Radio', '130242560', 'USD', '0.0', '1126879', '3594', '4.0', '4.5', '8.4.1', '12+', 'Music', '37', '4', '1', '1']\n",
      "\n",
      "\n",
      "Number of rows: 7197\n",
      "Number of columns: 16\n",
      "['Photo Editor & Candy Camera & Grid & ScrapBook', 'ART_AND_DESIGN', '4.1', '159', '19M', '10,000+', 'Free', '0', 'Everyone', 'Art & Design', 'January 7, 2018', '1.0.0', '4.0.3 and up']\n",
      "\n",
      "\n",
      "['Coloring book moana', 'ART_AND_DESIGN', '3.9', '967', '14M', '500,000+', 'Free', '0', 'Everyone', 'Art & Design;Pretend Play', 'January 15, 2018', '2.0.0', '4.0.3 and up']\n",
      "\n",
      "\n",
      "Number of rows: 10841\n",
      "Number of columns: 13\n"
     ]
    }
   ],
   "source": [
    "def explore_data(dataset,start,end,rows=False,columns=False):\n",
    "    dataset_slice=dataset[start:end]\n",
    "    for row in dataset_slice:\n",
    "        print(row)\n",
    "        print('\\n')    \n",
    "    if rows and columns:\n",
    "        print('Number of rows:', len(dataset))\n",
    "        print('Number of columns:', len(dataset[0]))\n",
    "        \n",
    "print(ios_heading)\n",
    "print('\\n')\n",
    "explore_data(ios_apps,0,5,True,True)\n",
    "explore_data(android_apps,0,2,True,True)\n",
    "    \n",
    "    "
   ]
  },
  {
   "cell_type": "markdown",
   "metadata": {
    "collapsed": false
   },
   "source": [
    "After defining explore_data function, we explore the ios_apps data and print the first five rows of ios apps followed by ios headings. We have also found out that there are 7197 ios apps available in appstore and the appstore apps data are classified under 16 different columns of headings.\n"
   ]
  },
  {
   "cell_type": "code",
   "execution_count": 172,
   "metadata": {
    "collapsed": false
   },
   "outputs": [
    {
     "name": "stdout",
     "output_type": "stream",
     "text": [
      "['App', 'Category', 'Rating', 'Reviews', 'Size', 'Installs', 'Type', 'Price', 'Content Rating', 'Genres', 'Last Updated', 'Current Ver', 'Android Ver']\n",
      "\n",
      "\n",
      "['Photo Editor & Candy Camera & Grid & ScrapBook', 'ART_AND_DESIGN', '4.1', '159', '19M', '10,000+', 'Free', '0', 'Everyone', 'Art & Design', 'January 7, 2018', '1.0.0', '4.0.3 and up']\n",
      "\n",
      "\n",
      "['Coloring book moana', 'ART_AND_DESIGN', '3.9', '967', '14M', '500,000+', 'Free', '0', 'Everyone', 'Art & Design;Pretend Play', 'January 15, 2018', '2.0.0', '4.0.3 and up']\n",
      "\n",
      "\n",
      "['U Launcher Lite – FREE Live Cool Themes, Hide Apps', 'ART_AND_DESIGN', '4.7', '87510', '8.7M', '5,000,000+', 'Free', '0', 'Everyone', 'Art & Design', 'August 1, 2018', '1.2.4', '4.0.3 and up']\n",
      "\n",
      "\n",
      "['Sketch - Draw & Paint', 'ART_AND_DESIGN', '4.5', '215644', '25M', '50,000,000+', 'Free', '0', 'Teen', 'Art & Design', 'June 8, 2018', 'Varies with device', '4.2 and up']\n",
      "\n",
      "\n",
      "['Pixel Draw - Number Art Coloring Book', 'ART_AND_DESIGN', '4.3', '967', '2.8M', '100,000+', 'Free', '0', 'Everyone', 'Art & Design;Creativity', 'June 20, 2018', '1.1', '4.4 and up']\n",
      "\n",
      "\n",
      "Number of rows: 10841\n",
      "Number of columns: 13\n"
     ]
    }
   ],
   "source": [
    "print(android_heading)\n",
    "print('\\n')\n",
    "explore_data(android_apps,0,5,True,True)"
   ]
  },
  {
   "cell_type": "markdown",
   "metadata": {},
   "source": [
    "After defining explore_data function, we explore the android_apps data and print the first five rows of android apps followed by android_headings. We have also found out that there are 10841 android apps available in google playstore and the playstore apps data are classified under 13 different columns of headings.\n"
   ]
  },
  {
   "cell_type": "markdown",
   "metadata": {},
   "source": [
    "We have to find if there are any missing columns in our ios apps data if we want to clean our data. So,the code below checks whether there is any missing columns in ios apps data."
   ]
  },
  {
   "cell_type": "code",
   "execution_count": 173,
   "metadata": {
    "collapsed": false
   },
   "outputs": [
    {
     "name": "stdout",
     "output_type": "stream",
     "text": [
      "[]\n"
     ]
    }
   ],
   "source": [
    "all_columns=len(ios_heading)\n",
    "error_in_rows=[]\n",
    "for items in ios_apps:\n",
    "    if len(items)!=all_columns:\n",
    "        error_in_rows.append(items)\n",
    "print(error_in_rows)\n"
   ]
  },
  {
   "cell_type": "markdown",
   "metadata": {},
   "source": [
    "There are not any missing columns in ios apps data so this data doesnot need to delete any rows to make the data clean for analysis and we also need to check for missing columns in android apps data and we can obtain so from the code explained below."
   ]
  },
  {
   "cell_type": "code",
   "execution_count": 174,
   "metadata": {
    "collapsed": false
   },
   "outputs": [
    {
     "name": "stdout",
     "output_type": "stream",
     "text": [
      "[['Life Made WI-Fi Touchscreen Photo Frame', '1.9', '19', '3.0M', '1,000+', 'Free', '0', 'Everyone', '', 'February 11, 2018', '1.0.19', '4.0 and up']]\n",
      "[10472]\n",
      "Content Rating\n",
      "12\n"
     ]
    }
   ],
   "source": [
    "all_columns=len(android_heading)\n",
    "error_in_rows=[]\n",
    "error_index=[]\n",
    "for items in android_apps:\n",
    "    if len(items)!=all_columns:\n",
    "        error_in_rows.append(items)\n",
    "        errorindex=android_apps.index(items)\n",
    "        error_index.append(errorindex)\n",
    "print(error_in_rows)\n",
    "print(error_index)\n",
    "print(android_heading[8])\n",
    "for items in error_in_rows:\n",
    "    print(len(items))\n",
    "        \n",
    "        \n",
    "    "
   ]
  },
  {
   "cell_type": "markdown",
   "metadata": {},
   "source": [
    "There is a missing column in android apps in index 10472 of android_apps data which excludes android_heading. The android_heading has 13 columns but at 10472 index of android_data, there are 12 columns and 1 column is missing in this dataset so we have to delete this whole row to make our data clean for analysis."
   ]
  },
  {
   "cell_type": "code",
   "execution_count": 176,
   "metadata": {
    "collapsed": false
   },
   "outputs": [
    {
     "name": "stdout",
     "output_type": "stream",
     "text": [
      "10840\n",
      "['osmino Wi-Fi: free WiFi', 'TOOLS', '4.2', '134203', '4.1M', '10,000,000+', 'Free', '0', 'Everyone', 'Tools', 'August 7, 2018', '6.06.14', '4.4 and up']\n",
      "10840\n"
     ]
    }
   ],
   "source": [
    "print(len(android_apps))\n",
    "print(android_apps[10472])\n",
    "# del(android_apps[10472])\n",
    "print(len(android_apps))"
   ]
  },
  {
   "cell_type": "markdown",
   "metadata": {},
   "source": [
    "# Finding the apps with duplicate entries and removing duplicate entries\n",
    "\n"
   ]
  },
  {
   "cell_type": "code",
   "execution_count": 177,
   "metadata": {
    "collapsed": false
   },
   "outputs": [
    {
     "name": "stdout",
     "output_type": "stream",
     "text": [
      "10840\n",
      "9659\n",
      "1181\n",
      "['Quick PDF Scanner + OCR FREE', 'Box', 'Google My Business', 'ZOOM Cloud Meetings', 'join.me - Simple Meetings']\n",
      "7197\n",
      "7197\n",
      "0\n",
      "[]\n"
     ]
    }
   ],
   "source": [
    "# For android apps \n",
    "unique_apps=[]\n",
    "duplicate_apps=[]\n",
    "for items in android_apps:\n",
    "    data=items[0]\n",
    "    if data in unique_apps:\n",
    "        duplicate_apps.append(data)\n",
    "    else:\n",
    "        unique_apps.append(data)\n",
    "print(len(android_apps))\n",
    "print(len(unique_apps))    \n",
    "print(len(duplicate_apps))\n",
    "print(duplicate_apps[0:5])\n",
    "\n",
    "# For ios apps\n",
    "unique_apps=[]\n",
    "duplicate_apps=[]\n",
    "for items in ios_apps:\n",
    "    data=items[0]\n",
    "    if data in unique_apps:\n",
    "        duplicate_apps.append(data)\n",
    "    else:\n",
    "        unique_apps.append(data)\n",
    "print(len(ios_apps))\n",
    "print(len(unique_apps))    \n",
    "print(len(duplicate_apps))\n",
    "print(duplicate_apps[0:5])\n"
   ]
  },
  {
   "cell_type": "markdown",
   "metadata": {},
   "source": [
    "We have written some codes to check whether the apps have duplicated entries or not and we found in our android apps data that there are 1181 apps that have been duplicated but none of the ios apps data have been duplicated. If we analyze without removing duplicate entries from our data, we may not encounter the accuracy of our analysis. So, for improving our accuacy in our analysis, we have to clean the data by removing duplicated entries. However, we cannot randomly delete the duplicated entries. For doing so, we have to look the entries whether all of the data have been duplicated or only few columns are duplicated. If all of the columns of duplicated entries are same then we can remove all duplicated entries otherwise we have to look carefully all the columns and check whether the columns of duplicated entries have been updated after taking another survey. "
   ]
  },
  {
   "cell_type": "markdown",
   "metadata": {},
   "source": [
    "# Filtering Duplicate Rows By Using Dictionary\n",
    "\n",
    "\n",
    "In the code below, we first make an empty dictionary in which we store the android apps name as key and the number of reviews as value. Then we loop through the android_apps data and store the name of apps in a variable inside for loop and we also store the number of reviews in another variable inside for loop. After then we check the condition whether the appname is already stored as a key value or not. If the appname is not stored as a key value in our dictionary then we add the key along with the value associated with the key that is the number of reviews of that app name but if the appname is already stored as a key value in our dictionary then we update the value of the key by the maximum number of reviews of that app and in this way, we prevent the dictionary from duplicate entries by not allowing to add the key name with it's associated value in the dictionary."
   ]
  },
  {
   "cell_type": "code",
   "execution_count": 178,
   "metadata": {
    "collapsed": false
   },
   "outputs": [
    {
     "name": "stdout",
     "output_type": "stream",
     "text": [
      "9659\n"
     ]
    }
   ],
   "source": [
    "reviews_max={}\n",
    "for items in android_apps:\n",
    "    name=items[0]\n",
    "    n_reviews= float(items[3])\n",
    "    \n",
    "    if ((name in reviews_max) and (reviews_max[name] < n_reviews)):\n",
    "        reviews_max[name]=n_reviews\n",
    "        \n",
    "    elif name not in reviews_max:\n",
    "        reviews_max[name]=n_reviews\n",
    "print(len(reviews_max))"
   ]
  },
  {
   "cell_type": "markdown",
   "metadata": {},
   "source": [
    "# Filtering Duplicate Entries By Using Lists\n",
    "\n",
    "At first, we create two empty lists:-One (android_clean) for storing all rows by removing duplicate rows and another(already_added) for storing app names associated with each row by removing all duplicate rows. To do this, we use for loop to iterate through the android_apps data and then we store appname into a variable called 'name' and no of reviews in another variable called 'n_reviews' after typecasting the variable to float inside the for loop. After that we check whether the app is stored in already_added list.If the app is not stored in already_added list the we check whether the numer of reviews stored in our variable 'n_reviews' is equal to the maximum number of reviews for a given app. And finally, we append the whole row in android_clean list and the app name associated with each row in already_added list. "
   ]
  },
  {
   "cell_type": "code",
   "execution_count": 179,
   "metadata": {
    "collapsed": false
   },
   "outputs": [
    {
     "name": "stdout",
     "output_type": "stream",
     "text": [
      "9659\n",
      "9659\n"
     ]
    }
   ],
   "source": [
    "android_clean=[]\n",
    "already_added=[]\n",
    "for data in android_apps:\n",
    "    name=data[0]\n",
    "    n_reviews= float(data[3])\n",
    "   \n",
    "    \n",
    "    if ((n_reviews== reviews_max[name]) and (name not in already_added)):\n",
    "        android_clean.append(data)\n",
    "        already_added.append(name)\n",
    "        \n",
    "print(len(android_clean))\n",
    "print(len(already_added))\n",
    "\n"
   ]
  },
  {
   "cell_type": "code",
   "execution_count": 180,
   "metadata": {
    "collapsed": false
   },
   "outputs": [
    {
     "name": "stdout",
     "output_type": "stream",
     "text": [
      "['Photo Editor & Candy Camera & Grid & ScrapBook', 'ART_AND_DESIGN', '4.1', '159', '19M', '10,000+', 'Free', '0', 'Everyone', 'Art & Design', 'January 7, 2018', '1.0.0', '4.0.3 and up']\n",
      "\n",
      "\n",
      "['U Launcher Lite – FREE Live Cool Themes, Hide Apps', 'ART_AND_DESIGN', '4.7', '87510', '8.7M', '5,000,000+', 'Free', '0', 'Everyone', 'Art & Design', 'August 1, 2018', '1.2.4', '4.0.3 and up']\n",
      "\n",
      "\n",
      "['Sketch - Draw & Paint', 'ART_AND_DESIGN', '4.5', '215644', '25M', '50,000,000+', 'Free', '0', 'Teen', 'Art & Design', 'June 8, 2018', 'Varies with device', '4.2 and up']\n",
      "\n",
      "\n",
      "['Pixel Draw - Number Art Coloring Book', 'ART_AND_DESIGN', '4.3', '967', '2.8M', '100,000+', 'Free', '0', 'Everyone', 'Art & Design;Creativity', 'June 20, 2018', '1.1', '4.4 and up']\n",
      "\n",
      "\n",
      "Number of rows: 9659\n",
      "Number of columns: 13\n"
     ]
    }
   ],
   "source": [
    "explore_data(android_clean,0,4,True,True)"
   ]
  },
  {
   "cell_type": "code",
   "execution_count": 181,
   "metadata": {
    "collapsed": false
   },
   "outputs": [
    {
     "name": "stdout",
     "output_type": "stream",
     "text": [
      "a\n",
      "42\n",
      "37\n",
      "36\n",
      "38\n",
      "64\n",
      "33\n",
      "35\n",
      "94\n"
     ]
    }
   ],
   "source": [
    "print(chr(97))\n",
    "print(ord('*'))\n",
    "print(ord('%'))\n",
    "print(ord('$'))\n",
    "print(ord('&'))\n",
    "print(ord('@'))\n",
    "print(ord('!'))\n",
    "print(ord('#'))\n",
    "print(ord('^'))"
   ]
  },
  {
   "cell_type": "markdown",
   "metadata": {},
   "source": [
    "After removing the rows with duplicate entries, now our aim is to look for those apps whose name starts from English alphabets since we are "
   ]
  },
  {
   "cell_type": "code",
   "execution_count": 182,
   "metadata": {
    "collapsed": false
   },
   "outputs": [
    {
     "name": "stdout",
     "output_type": "stream",
     "text": [
      "True\n",
      "False\n",
      "True\n",
      "True\n"
     ]
    }
   ],
   "source": [
    "def is_English(string):\n",
    "    counter=0\n",
    "    for char in string:\n",
    "        if(ord(char)>127):\n",
    "            counter+=1\n",
    "    if(counter > 3):\n",
    "        return False\n",
    "    else:\n",
    "        return True\n",
    "        \n",
    "print(is_English('Instagram'))\n",
    "print(is_English('爱奇艺PPS -《欢乐颂2》电视剧热播'))\n",
    "print(is_English('Docs To Go™ Free Office Suite'))\n",
    "print(is_English('Instachat 😜'))"
   ]
  },
  {
   "cell_type": "code",
   "execution_count": 183,
   "metadata": {
    "collapsed": false
   },
   "outputs": [
    {
     "name": "stdout",
     "output_type": "stream",
     "text": [
      "8482\n",
      "128540\n",
      "<class 'list'>\n",
      "<class 'list'>\n"
     ]
    }
   ],
   "source": [
    "print(ord('™'))\n",
    "print(ord('😜'))\n",
    "print(type(android_clean))\n",
    "print(type(already_added))"
   ]
  },
  {
   "cell_type": "code",
   "execution_count": 184,
   "metadata": {
    "collapsed": false
   },
   "outputs": [
    {
     "name": "stdout",
     "output_type": "stream",
     "text": [
      "45\n",
      "['Flame - درب عقلك يوميا', 'EDUCATION', '4.6', '56065', '37M', '1,000,000+', 'Free', '0', 'Everyone', 'Education', 'July 26, 2018', '3.3', '4.1 and up']\n",
      "\n",
      "\n",
      "['သိင်္ Astrology - Min Thein Kha BayDin', 'LIFESTYLE', '4.7', '2225', '15M', '100,000+', 'Free', '0', 'Everyone', 'Lifestyle', 'July 26, 2018', '4.2.1', '4.0.3 and up']\n",
      "\n",
      "\n",
      "Number of rows: 45\n",
      "Number of columns: 13\n",
      "['Photo Editor & Candy Camera & Grid & ScrapBook', 'ART_AND_DESIGN', '4.1', '159', '19M', '10,000+', 'Free', '0', 'Everyone', 'Art & Design', 'January 7, 2018', '1.0.0', '4.0.3 and up']\n",
      "\n",
      "\n",
      "['U Launcher Lite – FREE Live Cool Themes, Hide Apps', 'ART_AND_DESIGN', '4.7', '87510', '8.7M', '5,000,000+', 'Free', '0', 'Everyone', 'Art & Design', 'August 1, 2018', '1.2.4', '4.0.3 and up']\n",
      "\n",
      "\n",
      "['Sketch - Draw & Paint', 'ART_AND_DESIGN', '4.5', '215644', '25M', '50,000,000+', 'Free', '0', 'Teen', 'Art & Design', 'June 8, 2018', 'Varies with device', '4.2 and up']\n",
      "\n",
      "\n",
      "['Pixel Draw - Number Art Coloring Book', 'ART_AND_DESIGN', '4.3', '967', '2.8M', '100,000+', 'Free', '0', 'Everyone', 'Art & Design;Creativity', 'June 20, 2018', '1.1', '4.4 and up']\n",
      "\n",
      "\n",
      "Number of rows: 9614\n",
      "Number of columns: 13\n"
     ]
    }
   ],
   "source": [
    "Nonenglish_android_apps=[]\n",
    "English_android_apps=[]\n",
    "for data in list(android_clean):\n",
    "    appname=data[0]\n",
    "    if(is_English(appname)):\n",
    "        English_android_apps.append(data)\n",
    "    elif(is_English(appname)==False):\n",
    "        Nonenglish_android_apps.append(data)\n",
    "print(len(Nonenglish_android_apps))\n",
    "explore_data(Nonenglish_android_apps,0,2,True,True)\n",
    "explore_data(English_android_apps,0,4,True,True)"
   ]
  },
  {
   "cell_type": "code",
   "execution_count": 185,
   "metadata": {
    "collapsed": false
   },
   "outputs": [
    {
     "name": "stdout",
     "output_type": "stream",
     "text": [
      "['284882215', 'Facebook', '389879808', 'USD', '0.0', '2974676', '212', '3.5', '3.5', '95.0', '4+', 'Social Networking', '37', '1', '29', '1']\n",
      "\n",
      "\n",
      "['389801252', 'Instagram', '113954816', 'USD', '0.0', '2161558', '1289', '4.5', '4.0', '10.23', '12+', 'Photo & Video', '37', '0', '29', '1']\n",
      "\n",
      "\n",
      "Number of rows: 6183\n",
      "Number of columns: 16\n",
      "['445375097', '爱奇艺PPS -《欢乐颂2》电视剧热播', '224617472', 'USD', '0.0', '14844', '0', '4.0', '0.0', '6.3.3', '17+', 'Entertainment', '38', '5', '3', '1']\n",
      "\n",
      "\n",
      "['405667771', '聚力视频HD-人民的名义,跨界歌王全网热播', '90725376', 'USD', '0.0', '7446', '8', '4.0', '4.5', '5.0.8', '12+', 'Entertainment', '24', '4', '1', '1']\n",
      "\n",
      "\n",
      "Number of rows: 1014\n",
      "Number of columns: 16\n"
     ]
    }
   ],
   "source": [
    "Nonenglish_ios_apps=[]\n",
    "English_ios_apps=[]\n",
    "for items in ios_apps:\n",
    "    app=items[1]\n",
    "    if(is_English(app)==True):\n",
    "        English_ios_apps.append(items)\n",
    "    elif(is_English(app)==False):\n",
    "        Nonenglish_ios_apps.append(items)\n",
    "explore_data(English_ios_apps,0,2,True,True)\n",
    "explore_data(Nonenglish_ios_apps,0,2,True,True)"
   ]
  },
  {
   "cell_type": "code",
   "execution_count": 186,
   "metadata": {
    "collapsed": false
   },
   "outputs": [
    {
     "name": "stdout",
     "output_type": "stream",
     "text": [
      "['Photo Editor & Candy Camera & Grid & ScrapBook', 'ART_AND_DESIGN', '4.1', '159', '19M', '10,000+', 'Free', '0', 'Everyone', 'Art & Design', 'January 7, 2018', '1.0.0', '4.0.3 and up']\n",
      "\n",
      "\n",
      "['U Launcher Lite – FREE Live Cool Themes, Hide Apps', 'ART_AND_DESIGN', '4.7', '87510', '8.7M', '5,000,000+', 'Free', '0', 'Everyone', 'Art & Design', 'August 1, 2018', '1.2.4', '4.0.3 and up']\n",
      "\n",
      "\n",
      "Number of rows: 8864\n",
      "Number of columns: 13\n",
      "['TurboScan: scan documents and receipts in PDF', 'BUSINESS', '4.7', '11442', '6.8M', '100,000+', 'Paid', '$4.99', 'Everyone', 'Business', 'March 25, 2018', '1.5.2', '4.0 and up']\n",
      "\n",
      "\n",
      "['Tiny Scanner Pro: PDF Doc Scan', 'BUSINESS', '4.8', '10295', '39M', '100,000+', 'Paid', '$4.99', 'Everyone', 'Business', 'April 11, 2017', '3.4.6', '3.0 and up']\n",
      "\n",
      "\n",
      "Number of rows: 750\n",
      "Number of columns: 13\n",
      "['Command & Conquer: Rivals', 'FAMILY', 'NaN', '0', 'Varies with device', '0', 'NaN', '0', 'Everyone 10+', 'Strategy', 'June 28, 2018', 'Varies with device', 'Varies with device']\n",
      "\n",
      "\n",
      "Number of rows: 1\n",
      "Number of columns: 13\n"
     ]
    }
   ],
   "source": [
    "Free_android_apps=[]\n",
    "Paid_android_apps=[]\n",
    "exception=[]\n",
    "for items in English_android_apps:\n",
    "    price=items[6]\n",
    "    prices=items[7]\n",
    "    if(prices=='0'):\n",
    "        Free_android_apps.append(items)\n",
    "    else:\n",
    "        Paid_android_apps.append(items)\n",
    "    if( prices=='0' and price!='Free'):\n",
    "        exception.append(items)\n",
    "explore_data(Free_android_apps,0,2,True,True)\n",
    "explore_data(Paid_android_apps,0,2,True,True)\n",
    "explore_data(exception,0,1,True,True)\n",
    "        "
   ]
  },
  {
   "cell_type": "code",
   "execution_count": 187,
   "metadata": {
    "collapsed": false
   },
   "outputs": [
    {
     "name": "stdout",
     "output_type": "stream",
     "text": [
      "['284882215', 'Facebook', '389879808', 'USD', '0.0', '2974676', '212', '3.5', '3.5', '95.0', '4+', 'Social Networking', '37', '1', '29', '1']\n",
      "\n",
      "\n",
      "['389801252', 'Instagram', '113954816', 'USD', '0.0', '2161558', '1289', '4.5', '4.0', '10.23', '12+', 'Photo & Video', '37', '0', '29', '1']\n",
      "\n",
      "\n",
      "Number of rows: 3222\n",
      "Number of columns: 16\n",
      "['362949845', 'Fruit Ninja Classic', '104590336', 'USD', '1.99', '698516', '132', '4.5', '4.0', '2.3.9', '4+', 'Games', '38', '5', '13', '1']\n",
      "\n",
      "\n",
      "['500116670', 'Clear Vision (17+)', '37879808', 'USD', '0.99', '541693', '69225', '4.5', '4.5', '1.1.3', '17+', 'Games', '43', '5', '1', '1']\n",
      "\n",
      "\n",
      "Number of rows: 2961\n",
      "Number of columns: 16\n",
      "3222\n",
      "[['284882215', 'Facebook', '389879808', 'USD', '0.0', '2974676', '212', '3.5', '3.5', '95.0', '4+', 'Social Networking', '37', '1', '29', '1'], ['389801252', 'Instagram', '113954816', 'USD', '0.0', '2161558', '1289', '4.5', '4.0', '10.23', '12+', 'Photo & Video', '37', '0', '29', '1']]\n"
     ]
    }
   ],
   "source": [
    "Free_ios_apps=[]\n",
    "Paid_ios_apps=[]\n",
    "for items in English_ios_apps:\n",
    "    price=items[4]\n",
    "    if(price=='0.0'):\n",
    "        Free_ios_apps.append(items)\n",
    "    else:\n",
    "        Paid_ios_apps.append(items)\n",
    "explore_data(Free_ios_apps,0,2,True,True)\n",
    "explore_data(Paid_ios_apps,0,2,True,True)\n",
    "print(len(Free_ios_apps))\n",
    "print(Free_ios_apps[0:2])"
   ]
  },
  {
   "cell_type": "code",
   "execution_count": 188,
   "metadata": {
    "collapsed": false
   },
   "outputs": [
    {
     "name": "stdout",
     "output_type": "stream",
     "text": [
      "{'Parenting;Music & Video': 6, 'Video Players & Editors;Music & Video': 2, 'Casual;Music & Video': 1, 'Trivia': 37, 'Arcade;Pretend Play': 1, 'Productivity': 345, 'Educational;Creativity': 3, 'Strategy;Action & Adventure': 1, 'Educational;Brain Games': 6, 'House & Home': 73, 'Strategy': 81, 'Sports': 307, 'Finance': 328, 'Casual;Creativity': 6, 'Entertainment': 538, 'Auto & Vehicles': 82, 'Strategy;Education': 1, 'Simulation;Education': 1, 'Weather': 71, 'Education;Brain Games': 3, 'Art & Design;Pretend Play': 1, 'Art & Design;Creativity': 6, 'Dating': 165, 'Events': 63, 'Adventure;Action & Adventure': 3, 'Lifestyle': 345, 'Social': 236, 'Food & Drink': 110, 'Communication;Creativity': 1, 'Educational;Pretend Play': 8, 'Medical': 313, 'Travel & Local': 206, 'Music;Music & Video': 2, 'Strategy;Creativity': 1, 'Role Playing;Brain Games': 1, 'Education;Education': 30, 'Business': 407, 'Casual;Pretend Play': 21, 'Simulation;Action & Adventure': 7, 'Education;Music & Video': 3, 'Casual;Brain Games': 12, 'Photography': 261, 'Lifestyle;Pretend Play': 1, 'Adventure;Education': 1, 'Card;Action & Adventure': 1, 'Puzzle;Brain Games': 15, 'Parenting;Brain Games': 1, 'Puzzle;Action & Adventure': 3, 'Health & Fitness;Education': 1, 'Board;Action & Adventure': 2, 'Libraries & Demo': 83, 'Entertainment;Education': 1, 'Racing;Action & Adventure': 15, 'Health & Fitness;Action & Adventure': 1, 'Education;Creativity': 4, 'Action': 275, 'Arcade': 164, 'Lifestyle;Education': 1, 'Shopping': 199, 'Personalization': 294, 'Parenting': 44, 'Racing': 88, 'Education': 474, 'Music & Audio;Music & Video': 1, 'Entertainment;Pretend Play': 2, 'Art & Design': 53, 'Books & Reference;Education': 1, 'Art & Design;Action & Adventure': 1, 'Racing;Pretend Play': 1, 'Parenting;Education': 7, 'Trivia;Education': 1, 'Board': 34, 'Entertainment;Action & Adventure': 3, 'Educational;Education': 35, 'Puzzle;Creativity': 2, 'Comics;Creativity': 1, 'Adventure': 60, 'Role Playing;Pretend Play': 4, 'Music': 18, 'Puzzle': 100, 'News & Magazines': 248, 'Tools': 749, 'Simulation': 181, 'Video Players & Editors;Creativity': 1, 'Simulation;Pretend Play': 2, 'Travel & Local;Action & Adventure': 1, 'Comics': 54, 'Role Playing;Action & Adventure': 3, 'Puzzle;Education': 1, 'Tools;Education': 1, 'Education;Action & Adventure': 3, 'Role Playing': 83, 'Board;Brain Games': 7, 'Books & Reference': 190, 'Entertainment;Brain Games': 7, 'Casino': 38, 'Card': 40, 'Action;Action & Adventure': 9, 'Maps & Navigation': 124, 'Beauty': 53, 'Health & Fitness': 273, 'Educational;Action & Adventure': 3, 'Entertainment;Music & Video': 15, 'Arcade;Action & Adventure': 11, 'Video Players & Editors': 157, 'Word': 23, 'Casual': 156, 'Casual;Education': 2, 'Communication': 287, 'Educational': 33, 'Casual;Action & Adventure': 12, 'Sports;Action & Adventure': 2, 'Education;Pretend Play': 5, 'Entertainment;Creativity': 3}\n",
      "114\n"
     ]
    }
   ],
   "source": [
    "android_genres={}\n",
    "for items in Free_android_apps:\n",
    "    genres=items[9]   \n",
    "    if(genres not in android_genres):\n",
    "        android_genres[genres]=1\n",
    "    elif((genres in android_genres)):\n",
    "        android_genres[genres]+=1\n",
    "print(android_genres)\n",
    "print(len(android_genres))\n",
    "\n",
    "\n",
    "\n",
    "\n",
    "    "
   ]
  },
  {
   "cell_type": "code",
   "execution_count": 189,
   "metadata": {
    "collapsed": false
   },
   "outputs": [
    {
     "name": "stdout",
     "output_type": "stream",
     "text": [
      "{'Lifestyle': 51, 'Travel': 40, 'Social Networking': 106, 'Food & Drink': 26, 'Navigation': 6, 'Reference': 18, 'Games': 1874, 'Medical': 6, 'Shopping': 84, 'Utilities': 81, 'Photo & Video': 160, 'Productivity': 56, 'Education': 118, 'Sports': 69, 'Business': 17, 'Health & Fitness': 65, 'Finance': 36, 'Music': 66, 'Entertainment': 254, 'Weather': 28, 'News': 43, 'Catalogs': 4, 'Book': 14}\n",
      "23\n",
      "3222\n"
     ]
    }
   ],
   "source": [
    "ios_genres={}\n",
    "for data in Free_ios_apps:\n",
    "    primary_genre=data[11]   \n",
    "    if(primary_genre not in ios_genres):\n",
    "        ios_genres[primary_genre]=1\n",
    "    elif((primary_genre in ios_genres)):\n",
    "        ios_genres[primary_genre]+=1\n",
    "print(ios_genres)\n",
    "print(len(ios_genres))\n",
    "print(len(Free_ios_apps))\n"
   ]
  },
  {
   "cell_type": "code",
   "execution_count": 190,
   "metadata": {
    "collapsed": false
   },
   "outputs": [],
   "source": [
    "def freq_table(dataset,index):\n",
    "    table={}\n",
    "    total=0\n",
    "    for items in dataset:\n",
    "        total+=1\n",
    "        row=items[index]\n",
    "        if row in table:\n",
    "            table[row]+=1\n",
    "        else:\n",
    "            table[row]=1\n",
    "            \n",
    "    table_percentages={}\n",
    "    for key in table:\n",
    "        percentage=(table[key]/total)*100\n",
    "        table_percentages[key]=percentage\n",
    "    return table_percentages\n",
    "\n",
    "\n",
    "\n",
    "def display_table(dataset,index):\n",
    "    tables=freq_table(dataset,index)\n",
    "    tables_display=[]\n",
    "    for keys in tables:\n",
    "        keys_val_as_tuple=(tables[keys],keys)\n",
    "        tables_display.append(keys_val_as_tuple)\n",
    "    tables_sorted=sorted(tables_display,reverse=True)\n",
    "    for entry in tables_sorted:\n",
    "        print(entry[1], ':', entry[0])\n",
    "            \n",
    "    "
   ]
  },
  {
   "cell_type": "code",
   "execution_count": 191,
   "metadata": {
    "collapsed": false
   },
   "outputs": [
    {
     "data": {
      "text/plain": [
       "{'Action': 3.1024368231046933,\n",
       " 'Action;Action & Adventure': 0.10153429602888085,\n",
       " 'Adventure': 0.6768953068592057,\n",
       " 'Adventure;Action & Adventure': 0.033844765342960284,\n",
       " 'Adventure;Education': 0.01128158844765343,\n",
       " 'Arcade': 1.8501805054151623,\n",
       " 'Arcade;Action & Adventure': 0.12409747292418773,\n",
       " 'Arcade;Pretend Play': 0.01128158844765343,\n",
       " 'Art & Design': 0.5979241877256317,\n",
       " 'Art & Design;Action & Adventure': 0.01128158844765343,\n",
       " 'Art & Design;Creativity': 0.06768953068592057,\n",
       " 'Art & Design;Pretend Play': 0.01128158844765343,\n",
       " 'Auto & Vehicles': 0.9250902527075812,\n",
       " 'Beauty': 0.5979241877256317,\n",
       " 'Board': 0.3835740072202166,\n",
       " 'Board;Action & Adventure': 0.02256317689530686,\n",
       " 'Board;Brain Games': 0.078971119133574,\n",
       " 'Books & Reference': 2.1435018050541514,\n",
       " 'Books & Reference;Education': 0.01128158844765343,\n",
       " 'Business': 4.591606498194946,\n",
       " 'Card': 0.45126353790613716,\n",
       " 'Card;Action & Adventure': 0.01128158844765343,\n",
       " 'Casino': 0.42870036101083037,\n",
       " 'Casual': 1.7599277978339352,\n",
       " 'Casual;Action & Adventure': 0.13537906137184114,\n",
       " 'Casual;Brain Games': 0.13537906137184114,\n",
       " 'Casual;Creativity': 0.06768953068592057,\n",
       " 'Casual;Education': 0.02256317689530686,\n",
       " 'Casual;Music & Video': 0.01128158844765343,\n",
       " 'Casual;Pretend Play': 0.236913357400722,\n",
       " 'Comics': 0.6092057761732852,\n",
       " 'Comics;Creativity': 0.01128158844765343,\n",
       " 'Communication': 3.2378158844765346,\n",
       " 'Communication;Creativity': 0.01128158844765343,\n",
       " 'Dating': 1.861462093862816,\n",
       " 'Education': 5.347472924187725,\n",
       " 'Education;Action & Adventure': 0.033844765342960284,\n",
       " 'Education;Brain Games': 0.033844765342960284,\n",
       " 'Education;Creativity': 0.04512635379061372,\n",
       " 'Education;Education': 0.33844765342960287,\n",
       " 'Education;Music & Video': 0.033844765342960284,\n",
       " 'Education;Pretend Play': 0.056407942238267145,\n",
       " 'Educational': 0.3722924187725632,\n",
       " 'Educational;Action & Adventure': 0.033844765342960284,\n",
       " 'Educational;Brain Games': 0.06768953068592057,\n",
       " 'Educational;Creativity': 0.033844765342960284,\n",
       " 'Educational;Education': 0.39485559566787,\n",
       " 'Educational;Pretend Play': 0.09025270758122744,\n",
       " 'Entertainment': 6.069494584837545,\n",
       " 'Entertainment;Action & Adventure': 0.033844765342960284,\n",
       " 'Entertainment;Brain Games': 0.078971119133574,\n",
       " 'Entertainment;Creativity': 0.033844765342960284,\n",
       " 'Entertainment;Education': 0.01128158844765343,\n",
       " 'Entertainment;Music & Video': 0.16922382671480143,\n",
       " 'Entertainment;Pretend Play': 0.02256317689530686,\n",
       " 'Events': 0.7107400722021661,\n",
       " 'Finance': 3.7003610108303246,\n",
       " 'Food & Drink': 1.2409747292418771,\n",
       " 'Health & Fitness': 3.0798736462093865,\n",
       " 'Health & Fitness;Action & Adventure': 0.01128158844765343,\n",
       " 'Health & Fitness;Education': 0.01128158844765343,\n",
       " 'House & Home': 0.8235559566787004,\n",
       " 'Libraries & Demo': 0.9363718411552346,\n",
       " 'Lifestyle': 3.892148014440433,\n",
       " 'Lifestyle;Education': 0.01128158844765343,\n",
       " 'Lifestyle;Pretend Play': 0.01128158844765343,\n",
       " 'Maps & Navigation': 1.3989169675090252,\n",
       " 'Medical': 3.531137184115524,\n",
       " 'Music': 0.2030685920577617,\n",
       " 'Music & Audio;Music & Video': 0.01128158844765343,\n",
       " 'Music;Music & Video': 0.02256317689530686,\n",
       " 'News & Magazines': 2.7978339350180503,\n",
       " 'Parenting': 0.4963898916967509,\n",
       " 'Parenting;Brain Games': 0.01128158844765343,\n",
       " 'Parenting;Education': 0.078971119133574,\n",
       " 'Parenting;Music & Video': 0.06768953068592057,\n",
       " 'Personalization': 3.3167870036101084,\n",
       " 'Photography': 2.944494584837545,\n",
       " 'Productivity': 3.892148014440433,\n",
       " 'Puzzle': 1.128158844765343,\n",
       " 'Puzzle;Action & Adventure': 0.033844765342960284,\n",
       " 'Puzzle;Brain Games': 0.16922382671480143,\n",
       " 'Puzzle;Creativity': 0.02256317689530686,\n",
       " 'Puzzle;Education': 0.01128158844765343,\n",
       " 'Racing': 0.9927797833935018,\n",
       " 'Racing;Action & Adventure': 0.16922382671480143,\n",
       " 'Racing;Pretend Play': 0.01128158844765343,\n",
       " 'Role Playing': 0.9363718411552346,\n",
       " 'Role Playing;Action & Adventure': 0.033844765342960284,\n",
       " 'Role Playing;Brain Games': 0.01128158844765343,\n",
       " 'Role Playing;Pretend Play': 0.04512635379061372,\n",
       " 'Shopping': 2.2450361010830324,\n",
       " 'Simulation': 2.0419675090252705,\n",
       " 'Simulation;Action & Adventure': 0.078971119133574,\n",
       " 'Simulation;Education': 0.01128158844765343,\n",
       " 'Simulation;Pretend Play': 0.02256317689530686,\n",
       " 'Social': 2.6624548736462095,\n",
       " 'Sports': 3.463447653429603,\n",
       " 'Sports;Action & Adventure': 0.02256317689530686,\n",
       " 'Strategy': 0.9138086642599278,\n",
       " 'Strategy;Action & Adventure': 0.01128158844765343,\n",
       " 'Strategy;Creativity': 0.01128158844765343,\n",
       " 'Strategy;Education': 0.01128158844765343,\n",
       " 'Tools': 8.449909747292418,\n",
       " 'Tools;Education': 0.01128158844765343,\n",
       " 'Travel & Local': 2.3240072202166067,\n",
       " 'Travel & Local;Action & Adventure': 0.01128158844765343,\n",
       " 'Trivia': 0.41741877256317694,\n",
       " 'Trivia;Education': 0.01128158844765343,\n",
       " 'Video Players & Editors': 1.7712093862815883,\n",
       " 'Video Players & Editors;Creativity': 0.01128158844765343,\n",
       " 'Video Players & Editors;Music & Video': 0.02256317689530686,\n",
       " 'Weather': 0.8009927797833934,\n",
       " 'Word': 0.2594765342960289}"
      ]
     },
     "execution_count": 191,
     "metadata": {},
     "output_type": "execute_result"
    }
   ],
   "source": [
    "freq_table(Free_android_apps,9)"
   ]
  },
  {
   "cell_type": "code",
   "execution_count": 192,
   "metadata": {
    "collapsed": false
   },
   "outputs": [
    {
     "name": "stdout",
     "output_type": "stream",
     "text": [
      "Tools : 8.602038693571874\n",
      "Entertainment : 5.793634283336801\n",
      "Education : 5.231953401289786\n",
      "Business : 4.358227584772207\n",
      "Medical : 4.108591637195756\n",
      "Personalization : 3.900561680882047\n",
      "Productivity : 3.879758685250676\n",
      "Lifestyle : 3.775743707093822\n",
      "Finance : 3.588516746411483\n",
      "Sports : 3.442895776991887\n",
      "Communication : 3.2660703141252343\n",
      "Action : 3.110047846889952\n",
      "Health & Fitness : 2.995631370917412\n",
      "Photography : 2.9124193883919283\n",
      "News & Magazines : 2.600374453921365\n",
      "Social : 2.485957977948825\n",
      "Travel & Local : 2.26752652381943\n",
      "Books & Reference : 2.26752652381943\n",
      "Shopping : 2.090701060952777\n",
      "Simulation : 1.9762845849802373\n",
      "Arcade : 1.9138755980861244\n",
      "Dating : 1.768254628666528\n",
      "Casual : 1.7162471395881007\n",
      "Video Players & Editors : 1.674641148325359\n",
      "Maps & Navigation : 1.3417932182234242\n",
      "Puzzle : 1.2377782400665696\n",
      "Food & Drink : 1.1649677553567712\n",
      "Role Playing : 1.0817557728312877\n",
      "Strategy : 0.9777407946744331\n",
      "Racing : 0.9465363012273768\n",
      "Libraries & Demo : 0.8737258165175785\n",
      "Auto & Vehicles : 0.8737258165175785\n",
      "Weather : 0.8217183274391513\n",
      "House & Home : 0.7593093405450385\n",
      "Adventure : 0.748907842729353\n",
      "Events : 0.6656958602038693\n",
      "Art & Design : 0.5824838776783856\n",
      "Comics : 0.5616808820470147\n",
      "Beauty : 0.5512793842313293\n",
      "Card : 0.48887039733721654\n",
      "Parenting : 0.4784688995215311\n",
      "Board : 0.43686290825878926\n",
      "Casino : 0.40565841481173287\n",
      "Educational;Education : 0.3952569169960474\n",
      "Trivia : 0.384855419180362\n",
      "Educational : 0.384855419180362\n",
      "Education;Education : 0.36405242354899103\n",
      "Casual;Pretend Play : 0.26003744539213647\n",
      "Word : 0.23923444976076555\n",
      "Music : 0.1976284584980237\n",
      "Puzzle;Brain Games : 0.1768254628666528\n",
      "Education;Pretend Play : 0.1768254628666528\n",
      "Racing;Action & Adventure : 0.16642396505096732\n",
      "Entertainment;Music & Video : 0.15602246723528188\n",
      "Board;Brain Games : 0.1456209694195964\n",
      "Arcade;Action & Adventure : 0.1456209694195964\n",
      "Educational;Pretend Play : 0.13521947160391096\n",
      "Casual;Action & Adventure : 0.13521947160391096\n",
      "Casual;Brain Games : 0.1248179737882255\n",
      "Action;Action & Adventure : 0.1248179737882255\n",
      "Simulation;Action & Adventure : 0.0728104847097982\n",
      "Parenting;Education : 0.0728104847097982\n",
      "Entertainment;Brain Games : 0.0728104847097982\n",
      "Parenting;Music & Video : 0.06240898689411275\n",
      "Educational;Brain Games : 0.06240898689411275\n",
      "Education;Creativity : 0.06240898689411275\n",
      "Casual;Creativity : 0.06240898689411275\n",
      "Art & Design;Creativity : 0.06240898689411275\n",
      "Educational;Creativity : 0.052007489078427296\n",
      "Adventure;Action & Adventure : 0.052007489078427296\n",
      "Sports;Action & Adventure : 0.04160599126274183\n",
      "Role Playing;Pretend Play : 0.04160599126274183\n",
      "Role Playing;Action & Adventure : 0.04160599126274183\n",
      "Education;Brain Games : 0.04160599126274183\n",
      "Education;Action & Adventure : 0.04160599126274183\n",
      "Simulation;Pretend Play : 0.031204493447056374\n",
      "Simulation;Education : 0.031204493447056374\n",
      "Puzzle;Action & Adventure : 0.031204493447056374\n",
      "Music;Music & Video : 0.031204493447056374\n",
      "Entertainment;Creativity : 0.031204493447056374\n",
      "Entertainment;Action & Adventure : 0.031204493447056374\n",
      "Educational;Action & Adventure : 0.031204493447056374\n",
      "Education;Music & Video : 0.031204493447056374\n",
      "Casual;Education : 0.031204493447056374\n",
      "Board;Action & Adventure : 0.031204493447056374\n",
      "Video Players & Editors;Music & Video : 0.020802995631370915\n",
      "Strategy;Action & Adventure : 0.020802995631370915\n",
      "Puzzle;Creativity : 0.020802995631370915\n",
      "Entertainment;Pretend Play : 0.020802995631370915\n",
      "Card;Action & Adventure : 0.020802995631370915\n",
      "Books & Reference;Education : 0.020802995631370915\n",
      "Video Players & Editors;Creativity : 0.010401497815685458\n",
      "Trivia;Education : 0.010401497815685458\n",
      "Travel & Local;Action & Adventure : 0.010401497815685458\n",
      "Tools;Education : 0.010401497815685458\n",
      "Strategy;Education : 0.010401497815685458\n",
      "Strategy;Creativity : 0.010401497815685458\n",
      "Role Playing;Education : 0.010401497815685458\n",
      "Role Playing;Brain Games : 0.010401497815685458\n",
      "Racing;Pretend Play : 0.010401497815685458\n",
      "Puzzle;Education : 0.010401497815685458\n",
      "Parenting;Brain Games : 0.010401497815685458\n",
      "Music & Audio;Music & Video : 0.010401497815685458\n",
      "Lifestyle;Pretend Play : 0.010401497815685458\n",
      "Lifestyle;Education : 0.010401497815685458\n",
      "Health & Fitness;Education : 0.010401497815685458\n",
      "Health & Fitness;Action & Adventure : 0.010401497815685458\n",
      "Entertainment;Education : 0.010401497815685458\n",
      "Communication;Creativity : 0.010401497815685458\n",
      "Comics;Creativity : 0.010401497815685458\n",
      "Casual;Music & Video : 0.010401497815685458\n",
      "Books & Reference;Creativity : 0.010401497815685458\n",
      "Board;Pretend Play : 0.010401497815685458\n",
      "Art & Design;Pretend Play : 0.010401497815685458\n",
      "Art & Design;Action & Adventure : 0.010401497815685458\n",
      "Arcade;Pretend Play : 0.010401497815685458\n",
      "Adventure;Education : 0.010401497815685458\n",
      "Adventure;Brain Games : 0.010401497815685458\n"
     ]
    }
   ],
   "source": [
    "display_table(English_android_apps,9)"
   ]
  },
  {
   "cell_type": "code",
   "execution_count": 193,
   "metadata": {
    "collapsed": false
   },
   "outputs": [
    {
     "data": {
      "text/plain": [
       "{'ART_AND_DESIGN': 0.6240898689411275,\n",
       " 'AUTO_AND_VEHICLES': 0.8737258165175785,\n",
       " 'BEAUTY': 0.5512793842313293,\n",
       " 'BOOKS_AND_REFERENCE': 2.26752652381943,\n",
       " 'BUSINESS': 4.358227584772207,\n",
       " 'COMICS': 0.5720823798627002,\n",
       " 'COMMUNICATION': 3.2660703141252343,\n",
       " 'DATING': 1.768254628666528,\n",
       " 'EDUCATION': 1.1025587684626585,\n",
       " 'ENTERTAINMENT': 0.9049303099646349,\n",
       " 'EVENTS': 0.6656958602038693,\n",
       " 'FAMILY': 19.325982941543582,\n",
       " 'FINANCE': 3.588516746411483,\n",
       " 'FOOD_AND_DRINK': 1.1649677553567712,\n",
       " 'GAME': 9.819013938007073,\n",
       " 'HEALTH_AND_FITNESS': 2.995631370917412,\n",
       " 'HOUSE_AND_HOME': 0.7593093405450385,\n",
       " 'LIBRARIES_AND_DEMO': 0.8737258165175785,\n",
       " 'LIFESTYLE': 3.786145204909507,\n",
       " 'MAPS_AND_NAVIGATION': 1.3417932182234242,\n",
       " 'MEDICAL': 4.108591637195756,\n",
       " 'NEWS_AND_MAGAZINES': 2.600374453921365,\n",
       " 'PARENTING': 0.6240898689411275,\n",
       " 'PERSONALIZATION': 3.900561680882047,\n",
       " 'PHOTOGRAPHY': 2.9124193883919283,\n",
       " 'PRODUCTIVITY': 3.879758685250676,\n",
       " 'SHOPPING': 2.090701060952777,\n",
       " 'SOCIAL': 2.485957977948825,\n",
       " 'SPORTS': 3.3804867900977738,\n",
       " 'TOOLS': 8.61244019138756,\n",
       " 'TRAVEL_AND_LOCAL': 2.2779280216351157,\n",
       " 'VIDEO_PLAYERS': 1.6954441439567296,\n",
       " 'WEATHER': 0.8217183274391513}"
      ]
     },
     "execution_count": 193,
     "metadata": {},
     "output_type": "execute_result"
    }
   ],
   "source": [
    "freq_table(English_android_apps,1)"
   ]
  },
  {
   "cell_type": "code",
   "execution_count": 194,
   "metadata": {
    "collapsed": false
   },
   "outputs": [
    {
     "name": "stdout",
     "output_type": "stream",
     "text": [
      "FAMILY : 19.325982941543582\n",
      "GAME : 9.819013938007073\n",
      "TOOLS : 8.61244019138756\n",
      "BUSINESS : 4.358227584772207\n",
      "MEDICAL : 4.108591637195756\n",
      "PERSONALIZATION : 3.900561680882047\n",
      "PRODUCTIVITY : 3.879758685250676\n",
      "LIFESTYLE : 3.786145204909507\n",
      "FINANCE : 3.588516746411483\n",
      "SPORTS : 3.3804867900977738\n",
      "COMMUNICATION : 3.2660703141252343\n",
      "HEALTH_AND_FITNESS : 2.995631370917412\n",
      "PHOTOGRAPHY : 2.9124193883919283\n",
      "NEWS_AND_MAGAZINES : 2.600374453921365\n",
      "SOCIAL : 2.485957977948825\n",
      "TRAVEL_AND_LOCAL : 2.2779280216351157\n",
      "BOOKS_AND_REFERENCE : 2.26752652381943\n",
      "SHOPPING : 2.090701060952777\n",
      "DATING : 1.768254628666528\n",
      "VIDEO_PLAYERS : 1.6954441439567296\n",
      "MAPS_AND_NAVIGATION : 1.3417932182234242\n",
      "FOOD_AND_DRINK : 1.1649677553567712\n",
      "EDUCATION : 1.1025587684626585\n",
      "ENTERTAINMENT : 0.9049303099646349\n",
      "LIBRARIES_AND_DEMO : 0.8737258165175785\n",
      "AUTO_AND_VEHICLES : 0.8737258165175785\n",
      "WEATHER : 0.8217183274391513\n",
      "HOUSE_AND_HOME : 0.7593093405450385\n",
      "EVENTS : 0.6656958602038693\n",
      "PARENTING : 0.6240898689411275\n",
      "ART_AND_DESIGN : 0.6240898689411275\n",
      "COMICS : 0.5720823798627002\n",
      "BEAUTY : 0.5512793842313293\n"
     ]
    }
   ],
   "source": [
    "display_table(English_android_apps,1)"
   ]
  },
  {
   "cell_type": "code",
   "execution_count": 195,
   "metadata": {
    "collapsed": false
   },
   "outputs": [
    {
     "data": {
      "text/plain": [
       "{'Book': 0.8895358240336406,\n",
       " 'Business': 0.8571890667960537,\n",
       " 'Catalogs': 0.08086689309396733,\n",
       " 'Education': 6.6310852337053205,\n",
       " 'Entertainment': 7.261846999838266,\n",
       " 'Finance': 0.7924955523208799,\n",
       " 'Food & Drink': 0.7116286592269124,\n",
       " 'Games': 54.860100274947435,\n",
       " 'Health & Fitness': 2.6686074721009216,\n",
       " 'Lifestyle': 1.6011644832605532,\n",
       " 'Medical': 0.3396409509946628,\n",
       " 'Music': 2.215752870774705,\n",
       " 'Navigation': 0.452854601326217,\n",
       " 'News': 0.9218825812712276,\n",
       " 'Photo & Video': 5.515122109008572,\n",
       " 'Productivity': 2.7171276079573023,\n",
       " 'Reference': 0.8571890667960537,\n",
       " 'Shopping': 1.3747371825974446,\n",
       " 'Social Networking': 2.037845705967977,\n",
       " 'Sports': 1.6820313763545207,\n",
       " 'Travel': 0.9704027171276078,\n",
       " 'Utilities': 3.4449296458030085,\n",
       " 'Weather': 1.1159631246967492}"
      ]
     },
     "execution_count": 195,
     "metadata": {},
     "output_type": "execute_result"
    }
   ],
   "source": [
    "freq_table(English_ios_apps,11)"
   ]
  },
  {
   "cell_type": "code",
   "execution_count": 196,
   "metadata": {
    "collapsed": false
   },
   "outputs": [
    {
     "name": "stdout",
     "output_type": "stream",
     "text": [
      "Games : 54.860100274947435\n",
      "Entertainment : 7.261846999838266\n",
      "Education : 6.6310852337053205\n",
      "Photo & Video : 5.515122109008572\n",
      "Utilities : 3.4449296458030085\n",
      "Productivity : 2.7171276079573023\n",
      "Health & Fitness : 2.6686074721009216\n",
      "Music : 2.215752870774705\n",
      "Social Networking : 2.037845705967977\n",
      "Sports : 1.6820313763545207\n",
      "Lifestyle : 1.6011644832605532\n",
      "Shopping : 1.3747371825974446\n",
      "Weather : 1.1159631246967492\n",
      "Travel : 0.9704027171276078\n",
      "News : 0.9218825812712276\n",
      "Book : 0.8895358240336406\n",
      "Reference : 0.8571890667960537\n",
      "Business : 0.8571890667960537\n",
      "Finance : 0.7924955523208799\n",
      "Food & Drink : 0.7116286592269124\n",
      "Navigation : 0.452854601326217\n",
      "Medical : 0.3396409509946628\n",
      "Catalogs : 0.08086689309396733\n"
     ]
    }
   ],
   "source": [
    "display_table(English_ios_apps,11)"
   ]
  },
  {
   "cell_type": "code",
   "execution_count": 197,
   "metadata": {
    "collapsed": false
   },
   "outputs": [
    {
     "name": "stdout",
     "output_type": "stream",
     "text": [
      "Lifestyle : 8930.373737373737\n",
      "Travel : 19030.183333333334\n",
      "News : 16980.315789473683\n",
      "Social Networking : 60253.84920634921\n",
      "Food & Drink : 19934.386363636364\n",
      "Navigation : 19370.821428571428\n",
      "Games : 15586.759433962265\n",
      "Medical : 648.952380952381\n",
      "Utilities : 7927.525821596244\n",
      "Catalogs : 3465.0\n",
      "Productivity : 8508.089285714286\n",
      "Education : 2472.278048780488\n",
      "Sports : 15350.913461538461\n",
      "Business : 5149.320754716981\n",
      "Health & Fitness : 10802.157575757576\n",
      "Finance : 23353.530612244896\n",
      "Shopping : 26635.011764705883\n",
      "Book : 10359.2\n",
      "Photo & Video : 14688.715542521993\n",
      "Entertainment : 8862.409799554565\n",
      "Weather : 23145.246376811596\n",
      "Reference : 27037.188679245282\n",
      "Music : 29047.109489051094\n"
     ]
    }
   ],
   "source": [
    "app_genre=freq_table(English_ios_apps,11)\n",
    "\n",
    "for genre in app_genre:\n",
    "    total=0\n",
    "    len_genre=0\n",
    "    for items in English_ios_apps:\n",
    "        genre_app=items[11]\n",
    "        if genre_app==genre:\n",
    "            no_of_users=float(items[5])\n",
    "            total+=no_of_users\n",
    "            len_genre+=1\n",
    "    avg_no_of_user_ratings=total/len_genre\n",
    "\n",
    "    print(genre, ':' , avg_no_of_user_ratings)"
   ]
  },
  {
   "cell_type": "code",
   "execution_count": 198,
   "metadata": {
    "collapsed": false
   },
   "outputs": [
    {
     "name": "stdout",
     "output_type": "stream",
     "text": [
      "{'Lifestyle': 8930.373737373737, 'Travel': 19030.183333333334, 'News': 16980.315789473683, 'Social Networking': 60253.84920634921, 'Food & Drink': 19934.386363636364, 'Navigation': 19370.821428571428, 'Games': 15586.759433962265, 'Medical': 648.952380952381, 'Utilities': 7927.525821596244, 'Catalogs': 3465.0, 'Productivity': 8508.089285714286, 'Education': 2472.278048780488, 'Sports': 15350.913461538461, 'Business': 5149.320754716981, 'Health & Fitness': 10802.157575757576, 'Finance': 23353.530612244896, 'Shopping': 26635.011764705883, 'Book': 10359.2, 'Photo & Video': 14688.715542521993, 'Entertainment': 8862.409799554565, 'Weather': 23145.246376811596, 'Reference': 27037.188679245282, 'Music': 29047.109489051094}\n"
     ]
    }
   ],
   "source": [
    "app_genre=freq_table(English_ios_apps,11)\n",
    "ios_apps_ratings={}\n",
    "ratings_count={}\n",
    "for items in English_ios_apps:\n",
    "    genre=items[11]\n",
    "    noofuserratings=float(items[5])\n",
    "    if genre not in ios_apps_ratings and genre not in ratings_count:\n",
    "        ratings_count[genre]=1\n",
    "        ios_apps_ratings[genre]=noofuserratings\n",
    "    \n",
    "    else:\n",
    "        ratings_count[genre]+=1\n",
    "        ios_apps_ratings[genre]+=noofuserratings\n",
    "        \n",
    "rating_count_by_genre={k: ios_apps_ratings[k]/ratings_count[k] for k in ios_apps_ratings}\n",
    "print(rating_count_by_genre)\n",
    "   \n",
    "\n",
    "    "
   ]
  },
  {
   "cell_type": "code",
   "execution_count": 199,
   "metadata": {
    "collapsed": false
   },
   "outputs": [
    {
     "name": "stdout",
     "output_type": "stream",
     "text": [
      "Social Networking : 60253.84920634921\n",
      "Music : 29047.109489051094\n",
      "Reference : 27037.188679245282\n",
      "Shopping : 26635.011764705883\n",
      "Finance : 23353.530612244896\n",
      "Weather : 23145.246376811596\n",
      "Food & Drink : 19934.386363636364\n",
      "Navigation : 19370.821428571428\n",
      "Travel : 19030.183333333334\n",
      "News : 16980.315789473683\n",
      "Games : 15586.759433962265\n",
      "Sports : 15350.913461538461\n",
      "Photo & Video : 14688.715542521993\n",
      "Health & Fitness : 10802.157575757576\n",
      "Book : 10359.2\n",
      "Lifestyle : 8930.373737373737\n",
      "Entertainment : 8862.409799554565\n",
      "Productivity : 8508.089285714286\n",
      "Utilities : 7927.525821596244\n",
      "Business : 5149.320754716981\n",
      "Catalogs : 3465.0\n",
      "Education : 2472.278048780488\n",
      "Medical : 648.952380952381\n"
     ]
    }
   ],
   "source": [
    "ratings_count_by_genre_displaytable=[]\n",
    "for keys in rating_count_by_genre:\n",
    "        keys_val_as_tuple=(rating_count_by_genre[keys],keys)\n",
    "        ratings_count_by_genre_displaytable.append(keys_val_as_tuple)\n",
    "        ratings_count_by_genre_displaytable_sorted=sorted(ratings_count_by_genre_displaytable,reverse=True)\n",
    "for entry in ratings_count_by_genre_displaytable_sorted:\n",
    "    print(entry[1], ':', entry[0])\n",
    "\n"
   ]
  },
  {
   "cell_type": "code",
   "execution_count": 200,
   "metadata": {
    "collapsed": false
   },
   "outputs": [
    {
     "name": "stdout",
     "output_type": "stream",
     "text": [
      "Games : 54.860100274947435\n",
      "Entertainment : 7.261846999838266\n",
      "Education : 6.6310852337053205\n",
      "Photo & Video : 5.515122109008572\n",
      "Utilities : 3.4449296458030085\n",
      "Productivity : 2.7171276079573023\n",
      "Health & Fitness : 2.6686074721009216\n",
      "Music : 2.215752870774705\n",
      "Social Networking : 2.037845705967977\n",
      "Sports : 1.6820313763545207\n",
      "Lifestyle : 1.6011644832605532\n",
      "Shopping : 1.3747371825974446\n",
      "Weather : 1.1159631246967492\n",
      "Travel : 0.9704027171276078\n",
      "News : 0.9218825812712276\n",
      "Book : 0.8895358240336406\n",
      "Reference : 0.8571890667960537\n",
      "Business : 0.8571890667960537\n",
      "Finance : 0.7924955523208799\n",
      "Food & Drink : 0.7116286592269124\n",
      "Navigation : 0.452854601326217\n",
      "Medical : 0.3396409509946628\n",
      "Catalogs : 0.08086689309396733\n"
     ]
    }
   ],
   "source": [
    "display_table(English_ios_apps,11)"
   ]
  },
  {
   "cell_type": "code",
   "execution_count": 210,
   "metadata": {
    "collapsed": false
   },
   "outputs": [
    {
     "name": "stdout",
     "output_type": "stream",
     "text": [
      "SHOPPING : 6966908.880597015\n",
      "FINANCE : 1319851.4028985507\n",
      "ART_AND_DESIGN : 1887285.0\n",
      "GAME : 14256217.600635594\n",
      "SPORTS : 3373767.6861538463\n",
      "PRODUCTIVITY : 15530942.008042896\n",
      "FAMILY : 3345018.516684607\n",
      "DATING : 828971.2176470588\n",
      "SOCIAL : 22961790.384937238\n",
      "AUTO_AND_VEHICLES : 632501.3214285715\n",
      "COMICS : 817657.2727272727\n",
      "BUSINESS : 1663758.627684964\n",
      "WEATHER : 4570892.658227848\n",
      "TRAVEL_AND_LOCAL : 13218662.767123288\n",
      "EVENTS : 249580.640625\n",
      "BEAUTY : 513151.88679245283\n",
      "LIBRARIES_AND_DEMO : 630903.6904761905\n",
      "NEWS_AND_MAGAZINES : 9472807.04\n",
      "LIFESTYLE : 1369954.7774725275\n",
      "FOOD_AND_DRINK : 1891060.2767857143\n",
      "BOOKS_AND_REFERENCE : 7641777.871559633\n",
      "PARENTING : 525351.8333333334\n",
      "ENTERTAINMENT : 11375402.298850575\n",
      "EDUCATION : 1782566.0377358492\n",
      "PHOTOGRAPHY : 16636241.267857144\n",
      "VIDEO_PLAYERS : 24121489.079754602\n",
      "TOOLS : 9785955.211352658\n",
      "HEALTH_AND_FITNESS : 3972300.388888889\n",
      "HOUSE_AND_HOME : 1331540.5616438356\n",
      "PERSONALIZATION : 4086652.4853333333\n",
      "COMMUNICATION : 35153714.17515924\n",
      "MEDICAL : 96944.49873417722\n",
      "MAPS_AND_NAVIGATION : 3900634.7286821706\n"
     ]
    }
   ],
   "source": [
    "cat_freq= freq_table(English_android_apps,1)\n",
    "for category in cat_freq:\n",
    "    total = 0\n",
    "    len_category = 0\n",
    "    for data in English_android_apps:\n",
    "        category_app = data[1]\n",
    "        if category_app == category:\n",
    "            no_of_installs = data[5]\n",
    "            no_of_installs1=no_of_installs.replace(',', '')\n",
    "            no_of_installs2=no_of_installs1.replace('+', '')\n",
    "            total += float(no_of_installs2)\n",
    "            len_category += 1\n",
    "            \n",
    "    average=total/len_category\n",
    "    print(category, ':', average)\n",
    "            \n",
    "        "
   ]
  },
  {
   "cell_type": "code",
   "execution_count": 213,
   "metadata": {
    "collapsed": false
   },
   "outputs": [
    {
     "ename": "ValueError",
     "evalue": "could not convert string to float: '10,000 '",
     "output_type": "error",
     "traceback": [
      "\u001b[1;31m\u001b[0m",
      "\u001b[1;31mValueError\u001b[0mTraceback (most recent call last)",
      "\u001b[1;32m<ipython-input-213-9185f8019796>\u001b[0m in \u001b[0;36m<module>\u001b[1;34m()\u001b[0m\n\u001b[0;32m      8\u001b[0m     \u001b[1;32mif\u001b[0m \u001b[0mcategory\u001b[0m \u001b[1;32mnot\u001b[0m \u001b[1;32min\u001b[0m \u001b[0mcategory_count\u001b[0m \u001b[1;32mand\u001b[0m \u001b[0mcategory\u001b[0m \u001b[1;32mnot\u001b[0m \u001b[1;32min\u001b[0m \u001b[0mcategory_installs\u001b[0m\u001b[1;33m:\u001b[0m\u001b[1;33m\u001b[0m\u001b[0m\n\u001b[0;32m      9\u001b[0m         \u001b[0mcategory_count\u001b[0m\u001b[1;33m[\u001b[0m\u001b[0mcategory\u001b[0m\u001b[1;33m]\u001b[0m\u001b[1;33m=\u001b[0m\u001b[1;36m1\u001b[0m\u001b[1;33m\u001b[0m\u001b[0m\n\u001b[1;32m---> 10\u001b[1;33m         \u001b[0mcategory_installs\u001b[0m\u001b[1;33m[\u001b[0m\u001b[0mcategory\u001b[0m\u001b[1;33m]\u001b[0m\u001b[1;33m=\u001b[0m\u001b[0mfloat\u001b[0m\u001b[1;33m(\u001b[0m\u001b[0mno_of_installs2\u001b[0m\u001b[1;33m)\u001b[0m\u001b[1;33m\u001b[0m\u001b[0m\n\u001b[0m\u001b[0;32m     11\u001b[0m     \u001b[1;32melse\u001b[0m\u001b[1;33m:\u001b[0m\u001b[1;33m\u001b[0m\u001b[0m\n\u001b[0;32m     12\u001b[0m         \u001b[0mcategory_count\u001b[0m\u001b[1;33m[\u001b[0m\u001b[0mcategory\u001b[0m\u001b[1;33m]\u001b[0m\u001b[1;33m+=\u001b[0m\u001b[1;36m1\u001b[0m\u001b[1;33m\u001b[0m\u001b[0m\n",
      "\u001b[1;31mValueError\u001b[0m: could not convert string to float: '10,000 '"
     ]
    }
   ],
   "source": [
    "category_count={}\n",
    "category_installs={}\n",
    "for items in English_android_apps:\n",
    "    category=items[1]\n",
    "    no_of_installs=items[5]\n",
    "    no_of_installs1=no_of_installs.replace(',',' ')\n",
    "    no_of_installs2=no_of_installs.replace('+',' ')\n",
    "    if category not in category_count and category not in category_installs:\n",
    "        category_count[category]=1\n",
    "        category_installs[category]=float(no_of_installs2)\n",
    "    else:\n",
    "        category_count[category]+=1\n",
    "        category_installs[category]+=float(no_of_installs2)\n",
    "print(category_count)\n",
    "print(category_installs)"
   ]
  },
  {
   "cell_type": "code",
   "execution_count": null,
   "metadata": {
    "collapsed": true
   },
   "outputs": [],
   "source": []
  }
 ],
 "metadata": {
  "kernelspec": {
   "display_name": "Python 3",
   "language": "python",
   "name": "python3"
  },
  "language_info": {
   "codemirror_mode": {
    "name": "ipython",
    "version": 3
   },
   "file_extension": ".py",
   "mimetype": "text/x-python",
   "name": "python",
   "nbconvert_exporter": "python",
   "pygments_lexer": "ipython3",
   "version": "3.4.3"
  }
 },
 "nbformat": 4,
 "nbformat_minor": 2
}
